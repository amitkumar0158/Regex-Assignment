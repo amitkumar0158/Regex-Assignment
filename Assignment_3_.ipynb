{
  "nbformat": 4,
  "nbformat_minor": 0,
  "metadata": {
    "colab": {
      "name": "Assignment-3 .ipynb",
      "provenance": [],
      "authorship_tag": "ABX9TyNXt4Bf/5JSnjAfF2evH2qc",
      "include_colab_link": true
    },
    "kernelspec": {
      "name": "python3",
      "display_name": "Python 3"
    },
    "language_info": {
      "name": "python"
    }
  },
  "cells": [
    {
      "cell_type": "markdown",
      "metadata": {
        "id": "view-in-github",
        "colab_type": "text"
      },
      "source": [
        "<a href=\"https://colab.research.google.com/github/amitkumar0158/Regex-Assignment/blob/main/Assignment_3_.ipynb\" target=\"_parent\"><img src=\"https://colab.research.google.com/assets/colab-badge.svg\" alt=\"Open In Colab\"/></a>"
      ]
    },
    {
      "cell_type": "markdown",
      "metadata": {
        "id": "YeXtmrN8Ife6"
      },
      "source": [
        "# **Assignment -3**"
      ]
    },
    {
      "cell_type": "markdown",
      "metadata": {
        "id": "4O2aTYk0Ihvi"
      },
      "source": [
        "\n",
        "\n",
        "#  NAME- AMIT KUMAR CHOUBEY\n",
        "\n"
      ]
    },
    {
      "cell_type": "markdown",
      "metadata": {
        "id": "N8gNed3OIhBZ"
      },
      "source": [
        "# Registration id -SIRSS2275"
      ]
    },
    {
      "cell_type": "markdown",
      "metadata": {
        "id": "lJx9nns77AQl"
      },
      "source": [
        "Q1. Write a function to return nth term of Fibonacci sequence."
      ]
    },
    {
      "cell_type": "code",
      "metadata": {
        "colab": {
          "base_uri": "https://localhost:8080/"
        },
        "id": "LV9hh7aj396N",
        "outputId": "653e3f7e-a453-47b8-ee57-8f880bf5fcb8"
      },
      "source": [
        "#The Fibonacci numbers are the numbers in the following integer sequence.  0, 1, 1, 2, 3, 5, 8, 13, 21, 34,  ……\n",
        "# In mathematical terms, the sequence Fn of Fibonacci numbers is defined by the recurrence relation  Fn = Fn-1 + Fn-2 with F0 = 0 and F1 = 1.\n",
        "# Taking 1st two fibonacci numbers as 0 and 1\n",
        "\n",
        "def fibonacci(n):\n",
        "\ta = 0\n",
        "\tb = 1\n",
        "\tif n < 0:\n",
        "\t\tprint(\"Incorrect input\")\n",
        "\telif n == 0:\n",
        "\t\treturn a\n",
        "\telif n == 1:\n",
        "\t\treturn b\n",
        "\telse:\n",
        "\t\t\n",
        "\t\treturn fibonacci(n-1)+fibonacci(n-2)\n",
        "\n",
        "\n",
        "terms= int(input(\"Please enter the number of terms:\"))\n",
        "print(fibonacci(terms))\n",
        "\n"
      ],
      "execution_count": 45,
      "outputs": [
        {
          "output_type": "stream",
          "text": [
            "Please enter the number of terms:7\n",
            "13\n"
          ],
          "name": "stdout"
        }
      ]
    },
    {
      "cell_type": "markdown",
      "metadata": {
        "id": "IivVcnd460Qj"
      },
      "source": [
        "Q2. Write a function to find out GCD of two numbers using EUCLID'S algorithm\n"
      ]
    },
    {
      "cell_type": "code",
      "metadata": {
        "colab": {
          "base_uri": "https://localhost:8080/"
        },
        "id": "LoRToR6B67VD",
        "outputId": "dcccd1c2-7daf-4710-df24-48bfceb0fab8"
      },
      "source": [
        "\n",
        "def gcd(a, b):\n",
        "\n",
        "\t# Everything divides 0\n",
        "\tif (a == 0):\n",
        "\t\treturn b\n",
        "\tif (b == 0):\n",
        "\t\treturn a\n",
        "\tif (a == b):\n",
        "\t\treturn a\n",
        "\n",
        "\t\n",
        "\tif (a > b):\n",
        "\t\treturn gcd(a-b, b)\n",
        "\treturn gcd(a, b-a)\n",
        "\n",
        "a =int(input(\"Enter the first number :\"))\n",
        "b =int(input(\"Enter the second number :\")) \n",
        "if(gcd(a, b)):\n",
        "\tprint('GCD of', a, 'and', b, 'is', gcd(a, b))\n",
        "else:\n",
        "\tprint('not found')\n"
      ],
      "execution_count": 39,
      "outputs": [
        {
          "output_type": "stream",
          "text": [
            "Enter the first number :400\n",
            "Enter the second number :200\n",
            "GCD of 400 and 200 is 200\n"
          ],
          "name": "stdout"
        }
      ]
    },
    {
      "cell_type": "markdown",
      "metadata": {
        "id": "0ajXUxttFI3p"
      },
      "source": [
        "Q3. Write a function to find LCM of two number in most optimizers way."
      ]
    },
    {
      "cell_type": "code",
      "metadata": {
        "colab": {
          "base_uri": "https://localhost:8080/"
        },
        "id": "mGfOTOgCFSFZ",
        "outputId": "bd0141d9-c1e9-4016-ce9d-36b9b163e5a4"
      },
      "source": [
        "num1 = int(input(\"Enter the first number\"))\n",
        "num2 = int(input(\"Enter the second number\"))\n",
        "if(num1 > num2 ):   \n",
        "    max= num1\n",
        "else:\n",
        "    max= num2\n",
        "while(True):\n",
        "    if(max % num1 == 0 and max % num2 == 0):   \n",
        "        print(max)\n",
        "        break;\n",
        "    max= max+ 1"
      ],
      "execution_count": 42,
      "outputs": [
        {
          "output_type": "stream",
          "text": [
            "Enter the first number5\n",
            "Enter the second number6\n",
            "30\n"
          ],
          "name": "stdout"
        }
      ]
    },
    {
      "cell_type": "code",
      "metadata": {
        "id": "ZQnM9GDGHJ0S"
      },
      "source": [
        ""
      ],
      "execution_count": null,
      "outputs": []
    }
  ]
}