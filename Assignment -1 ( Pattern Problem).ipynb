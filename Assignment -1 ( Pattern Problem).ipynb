{
 "cells": [
  {
   "cell_type": "markdown",
   "id": "60133146",
   "metadata": {},
   "source": [
    "### Pattern Questions "
   ]
  },
  {
   "cell_type": "markdown",
   "id": "632814d2",
   "metadata": {},
   "source": [
    "#### Task -1 \n",
    "Amit Ku. Choubey \n",
    "Registration id -SIRSS2275"
   ]
  },
  {
   "cell_type": "raw",
   "id": "db1107a9",
   "metadata": {},
   "source": [
    "Q1.\n",
    "5 5 5 5 5\n",
    "5 5 5 5\n",
    "5 5 5\n",
    "5 5\n",
    "5\n"
   ]
  },
  {
   "cell_type": "code",
   "execution_count": 1,
   "id": "fc3ef927",
   "metadata": {},
   "outputs": [
    {
     "name": "stdout",
     "output_type": "stream",
     "text": [
      "5  5  5  5  5  \n",
      "5  5  5  5  \n",
      "5  5  5  \n",
      "5  5  \n",
      "5  \n"
     ]
    }
   ],
   "source": [
    "n=5\n",
    "for i in range(n):\n",
    "    for j in range(n-i):\n",
    "        print(n,end=\"  \")\n",
    "    print()        "
   ]
  },
  {
   "cell_type": "raw",
   "id": "6cee4ad2",
   "metadata": {},
   "source": [
    "Q2.\n",
    "0 1 2 3 4 5\n",
    "0 1 2 3 4\n",
    "0 1 2 3\n",
    "0 1 2\n",
    "0 1\n"
   ]
  },
  {
   "cell_type": "code",
   "execution_count": 2,
   "id": "61bf7019",
   "metadata": {},
   "outputs": [
    {
     "name": "stdout",
     "output_type": "stream",
     "text": [
      "0 1 2 3 4 5 \n",
      "0 1 2 3 4 \n",
      "0 1 2 3 \n",
      "0 1 2 \n",
      "0 1 \n"
     ]
    }
   ],
   "source": [
    "n=5\n",
    "for i in range(n,0,-1):\n",
    "    for j in range(0,i+1):\n",
    "        print(j,end=\" \")\n",
    "    print() "
   ]
  },
  {
   "cell_type": "raw",
   "id": "85b21b0e",
   "metadata": {},
   "source": [
    "Q3.\n",
    "1\n",
    "3 3\n",
    "5 5 5\n",
    "7 7 7 7\n",
    "9 9 9 9 9"
   ]
  },
  {
   "cell_type": "code",
   "execution_count": 3,
   "id": "a27fd616",
   "metadata": {},
   "outputs": [
    {
     "name": "stdout",
     "output_type": "stream",
     "text": [
      "1 \n",
      "3 3 \n",
      "5 5 5 \n",
      "7 7 7 7 \n",
      "9 9 9 9 9 \n"
     ]
    }
   ],
   "source": [
    "n=5\n",
    "for i in range(n):\n",
    "    for j in range(i+1):\n",
    "        print(i+(i+1),end=\" \")\n",
    "    print()"
   ]
  },
  {
   "cell_type": "raw",
   "id": "d91b5de4",
   "metadata": {},
   "source": [
    "Q4.\n",
    "1 \n",
    "2 1 \n",
    "3 2 1 \n",
    "4 3 2 1 \n",
    "5 4 3 2 1"
   ]
  },
  {
   "cell_type": "code",
   "execution_count": 4,
   "id": "e6cd0f8e",
   "metadata": {},
   "outputs": [
    {
     "name": "stdout",
     "output_type": "stream",
     "text": [
      "1 \n",
      "2 1 \n",
      "3 2 1 \n",
      "4 3 2 1 \n",
      "5 4 3 2 1 \n"
     ]
    }
   ],
   "source": [
    "n = 5\n",
    "for i in range(n):\n",
    "    for j in range(i,-1,-1):\n",
    "            print(j+1,end=\" \")\n",
    "    print()"
   ]
  },
  {
   "cell_type": "raw",
   "id": "9fc34026",
   "metadata": {},
   "source": [
    "Q5.\n",
    "1\n",
    "3 2\n",
    "6 5 4\n",
    "10 9 8 7\n"
   ]
  },
  {
   "cell_type": "code",
   "execution_count": 5,
   "id": "21ce0d05",
   "metadata": {},
   "outputs": [
    {
     "name": "stdout",
     "output_type": "stream",
     "text": [
      "1 \n",
      "3 2 \n",
      "6 5 4 \n",
      "10 9 8 7 \n"
     ]
    }
   ],
   "source": [
    "start = 1\n",
    "\n",
    "stop = 2\n",
    "\n",
    "currentNumber = stop\n",
    "\n",
    "for row in range(2, 6):\n",
    "\n",
    "    for col in range(start, stop):\n",
    "\n",
    "        currentNumber -= 1\n",
    "\n",
    "        print(currentNumber, end=' ')\n",
    "\n",
    "    print()\n",
    "\n",
    "    start = stop\n",
    "\n",
    "    stop += row\n",
    "\n",
    "    currentNumber = stop"
   ]
  },
  {
   "cell_type": "raw",
   "id": "d5645b05",
   "metadata": {},
   "source": [
    "Q6. \n",
    " 1 \n",
    "1 1 \n",
    "1 2 1 \n",
    "1 3 3 1 \n",
    "1 4 6 4 1 \n",
    "1 5 10 10 5 1 \n",
    "1 6 15 20 15 6 1"
   ]
  },
  {
   "cell_type": "raw",
   "id": "dc8614d9",
   "metadata": {},
   "source": [
    "Q.7 \n",
    "1 2 3 4 5 \n",
    "2 2 3 4 5 \n",
    "3 3 3 4 5 \n",
    "4 4 4 4 5 \n",
    "5 5 5 5 5"
   ]
  },
  {
   "cell_type": "code",
   "execution_count": 6,
   "id": "085b8c49",
   "metadata": {},
   "outputs": [
    {
     "name": "stdout",
     "output_type": "stream",
     "text": [
      "1 2 3 4 5 \n",
      "2 2 3 4 5 \n",
      "3 3 3 4 5 \n",
      "4 4 4 4 5 \n",
      "5 5 5 5 5 \n"
     ]
    }
   ],
   "source": [
    "n=5  \n",
    "for i in range(1,n+ 1):  \n",
    "    for j in range(1, n+ 1):   \n",
    "        if j <= i:  \n",
    "            print(i, end=' ')  \n",
    "        else:  \n",
    "            print(j, end=' ')  \n",
    "    print()"
   ]
  },
  {
   "cell_type": "raw",
   "id": "a2452fa2",
   "metadata": {},
   "source": [
    "Q8.\n",
    "1 \n",
    "2 4 \n",
    "3 6 9 \n",
    "4 8 12 16 \n",
    "5 10 15 20 25 \n",
    "6 12 18 24 30 36 \n",
    "7 14 21 28 35 42 49 \n",
    "8 16 24 32 40 48 56 64"
   ]
  },
  {
   "cell_type": "code",
   "execution_count": 7,
   "id": "21498609",
   "metadata": {},
   "outputs": [
    {
     "name": "stdout",
     "output_type": "stream",
     "text": [
      "1 \n",
      "2 4 \n",
      "3 6 9 \n",
      "4 8 12 16 \n",
      "5 10 15 20 25 \n",
      "6 12 18 24 30 36 \n",
      "7 14 21 28 35 42 49 \n",
      "8 16 24 32 40 48 56 64 \n"
     ]
    }
   ],
   "source": [
    "n=9  \n",
    "for i in range(1,n):  \n",
    "    for j in range(1, i+ 1):\n",
    "        print(i*j, end=\" \")  \n",
    "    print()"
   ]
  },
  {
   "cell_type": "raw",
   "id": "2e7f3c40",
   "metadata": {},
   "source": [
    "Q.9\n",
    "  * * * * * * \n",
    "   * * * * * \n",
    "    * * * * \n",
    "     * * * \n",
    "      * * \n",
    "       *"
   ]
  },
  {
   "cell_type": "code",
   "execution_count": 8,
   "id": "e7112259",
   "metadata": {},
   "outputs": [
    {
     "name": "stdout",
     "output_type": "stream",
     "text": [
      "* * * * * * * \n",
      " * * * * * * \n",
      "  * * * * * \n",
      "   * * * * \n",
      "    * * * \n",
      "     * * \n",
      "      * \n"
     ]
    }
   ],
   "source": [
    "n=7\n",
    "for i in range(n,0,-1):\n",
    "    for j in range(0,n-i):\n",
    "        print(end=\" \")\n",
    "    for j in range(0,i):\n",
    "        print(\"*\",end=\" \")\n",
    "    print() "
   ]
  },
  {
   "cell_type": "raw",
   "id": "80cec788",
   "metadata": {},
   "source": [
    "Q.10\n",
    "     \n",
    "      *\n",
    "     * *\n",
    "    * * *\n",
    "   * * * *\n",
    "  * * * * *\n",
    " * * * * * *\n",
    "* * * * * * *"
   ]
  },
  {
   "cell_type": "code",
   "execution_count": 9,
   "id": "02c1c94f",
   "metadata": {},
   "outputs": [
    {
     "name": "stdout",
     "output_type": "stream",
     "text": [
      "      * \n",
      "     * * \n",
      "    * * * \n",
      "   * * * * \n",
      "  * * * * * \n",
      " * * * * * * \n",
      "* * * * * * * \n"
     ]
    }
   ],
   "source": [
    "n=7\n",
    "for i in range(1,n+1):\n",
    "    for j in range(0,n-i):\n",
    "        print(end=\" \")\n",
    "    for j in range(0,i):\n",
    "        print(\"*\",end=\" \")\n",
    "    print()"
   ]
  },
  {
   "cell_type": "raw",
   "id": "d8cf825f",
   "metadata": {},
   "source": [
    "Q.11\n",
    "   \n",
    "*\n",
    "* *\n",
    "* * *\n",
    "* * * *\n",
    "* * * * *\n",
    "* * * * * *\n",
    "\n",
    "* * * * * *\n",
    "* * * * *\n",
    "* * * *\n",
    "* * *\n",
    "* *\n",
    "*"
   ]
  },
  {
   "cell_type": "code",
   "execution_count": 10,
   "id": "1ea47c6f",
   "metadata": {},
   "outputs": [
    {
     "name": "stdout",
     "output_type": "stream",
     "text": [
      "* \n",
      "* * \n",
      "* * * \n",
      "* * * * \n",
      "* * * * * \n",
      "* * * * * * \n",
      "                   \n",
      "* * * * * * \n",
      "* * * * * \n",
      "* * * * \n",
      "* * * \n",
      "* * \n",
      "* \n"
     ]
    }
   ],
   "source": [
    "n=6\n",
    "for i in range(0, n):\n",
    "    for j in range(0, i + 1):\n",
    "        print(\"* \", end=\"\")\n",
    "    print()\n",
    "print(\"                   \")\n",
    "for i in range(n,0,-1):\n",
    "    for j in range(0, i):\n",
    "        print(\"* \", end=\"\")\n",
    "    print()"
   ]
  },
  {
   "cell_type": "raw",
   "id": "ac827bad",
   "metadata": {},
   "source": [
    "Q.12\n",
    "* \n",
    "* *\n",
    "* * *\n",
    "* * * *\n",
    "* * * * *\n",
    "* * * *\n",
    "* * *\n",
    "* *\n",
    "*"
   ]
  },
  {
   "cell_type": "code",
   "execution_count": 11,
   "id": "7c8de0f8",
   "metadata": {},
   "outputs": [
    {
     "name": "stdout",
     "output_type": "stream",
     "text": [
      "     \n",
      "     * \n",
      "     * * \n",
      "     * * * \n",
      "     * * * * \n",
      "     * * * * * \n",
      "     * * * * * * \n",
      "     * * * * * \n",
      "     * * * * \n",
      "     * * * \n",
      "     * * \n",
      "     * \n"
     ]
    }
   ],
   "source": [
    "for i in range(n):\n",
    "    for j in range(0,n-1):\n",
    "        print(end=\" \")\n",
    "    for j in range(0,i):\n",
    "        print(\"*\",end=\" \")\n",
    "    print()\n",
    "for i in range(n,0,-1):\n",
    "    for j in range(0,n-1):\n",
    "        print(end=\" \")\n",
    "    for j in range(0,i):\n",
    "        print(\"*\",end=\" \")\n",
    "    print()"
   ]
  },
  {
   "cell_type": "raw",
   "id": "f5570e4e",
   "metadata": {},
   "source": [
    "Q13.\n",
    "\n",
    "        *\n",
    "      * *\n",
    "    * * *\n",
    "  * * * *\n",
    "* * * * *\n",
    "  * * * *\n",
    "    * * *\n",
    "      * *\n",
    "        *"
   ]
  },
  {
   "cell_type": "code",
   "execution_count": 12,
   "id": "84d25967",
   "metadata": {},
   "outputs": [
    {
     "name": "stdout",
     "output_type": "stream",
     "text": [
      "        * \n",
      "      * * \n",
      "    * * * \n",
      "  * * * * \n",
      "* * * * * \n",
      "  * * * * \n",
      "    * * * \n",
      "      * * \n",
      "        * \n"
     ]
    }
   ],
   "source": [
    "n=5\n",
    "k = 2 * n - 2\n",
    "for i in range(0, n-1):\n",
    "    for j in range(0, k):\n",
    "        print(end=\" \")\n",
    "    k = k - 2\n",
    "    for j in range(0, i + 1):\n",
    "        print(\"* \", end=\"\")\n",
    "    print()\n",
    "k = -1\n",
    "for i in range(n-1,-1,-1):\n",
    "    for j in range(k,-1,-1):\n",
    "        print(end=\" \")\n",
    "    k = k + 2\n",
    "    for j in range(0, i + 1):\n",
    "        print(\"* \", end=\"\")\n",
    "    print()"
   ]
  },
  {
   "cell_type": "raw",
   "id": "0ff2c751",
   "metadata": {},
   "source": [
    "Q14.\n",
    "\n",
    "* * * * *\n",
    " * * * *\n",
    "  * * *\n",
    "   * *\n",
    "    *\n",
    "    *\n",
    "   * *\n",
    "  * * *\n",
    " * * * *\n",
    "* * * * *"
   ]
  },
  {
   "cell_type": "code",
   "execution_count": 13,
   "id": "f735a509",
   "metadata": {},
   "outputs": [
    {
     "name": "stdout",
     "output_type": "stream",
     "text": [
      "   * * * * * * \n",
      "    * * * * * \n",
      "     * * * * \n",
      "      * * * \n",
      "       * * \n",
      "        * \n",
      "        * \n",
      "       * * \n",
      "      * * * \n",
      "     * * * * \n",
      "    * * * * * \n",
      "   * * * * * * \n"
     ]
    }
   ],
   "source": [
    "n=5\n",
    "k = n - 2\n",
    "for i in range(n,-1 ,-1):\n",
    "    for j in range(k , 0 , -1):\n",
    "          print(end=\" \")\n",
    "    k = k + 1    \n",
    "    for j in range(0, i+1):\n",
    "        print(\"* \" , end=\"\")\n",
    "    print()\n",
    "k = 2 * n  - 2\n",
    "for i in range(0 , n+1):\n",
    "    for j in range(0 , k):\n",
    "        print(end=\" \")\n",
    "    k = k - 1\n",
    "    for j in range(0, i + 1):\n",
    "        print(\"* \", end=\"\")\n",
    "    print()"
   ]
  },
  {
   "cell_type": "code",
   "execution_count": null,
   "id": "e3e6573a",
   "metadata": {},
   "outputs": [],
   "source": []
  }
 ],
 "metadata": {
  "kernelspec": {
   "display_name": "Python 3",
   "language": "python",
   "name": "python3"
  },
  "language_info": {
   "codemirror_mode": {
    "name": "ipython",
    "version": 3
   },
   "file_extension": ".py",
   "mimetype": "text/x-python",
   "name": "python",
   "nbconvert_exporter": "python",
   "pygments_lexer": "ipython3",
   "version": "3.9.1"
  }
 },
 "nbformat": 4,
 "nbformat_minor": 5
}
